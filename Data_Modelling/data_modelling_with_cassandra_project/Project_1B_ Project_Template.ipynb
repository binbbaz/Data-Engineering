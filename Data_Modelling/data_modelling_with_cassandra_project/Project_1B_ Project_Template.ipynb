{
 "cells": [
  {
   "cell_type": "markdown",
   "metadata": {},
   "source": [
    "# Part I. ETL Pipeline for Pre-Processing the Files"
   ]
  },
  {
   "cell_type": "markdown",
   "metadata": {},
   "source": [
    "## PLEASE RUN THE FOLLOWING CODE FOR PRE-PROCESSING THE FILES"
   ]
  },
  {
   "cell_type": "markdown",
   "metadata": {},
   "source": [
    "#### Import Python packages "
   ]
  },
  {
   "cell_type": "code",
   "execution_count": 1,
   "metadata": {},
   "outputs": [],
   "source": [
    "# The necessary packages are imported here\n",
    "import pandas as pd\n",
    "import cassandra\n",
    "import re\n",
    "import os\n",
    "import glob\n",
    "import numpy as np\n",
    "import json\n",
    "import csv"
   ]
  },
  {
   "cell_type": "markdown",
   "metadata": {},
   "source": [
    "#### Creating list of filepaths to process original event csv data files"
   ]
  },
  {
   "cell_type": "code",
   "execution_count": 2,
   "metadata": {},
   "outputs": [
    {
     "name": "stdout",
     "output_type": "stream",
     "text": [
      "/Users/abbas/Documents/udacity/data engineering nano/Data_Modelling/data_modelling_with_cassandra_project\n",
      "['/Users/abbas/Documents/udacity/data engineering nano/Data_Modelling/data_modelling_with_cassandra_project/event_data/2018-11-15-events.csv', '/Users/abbas/Documents/udacity/data engineering nano/Data_Modelling/data_modelling_with_cassandra_project/event_data/2018-11-22-events.csv', '/Users/abbas/Documents/udacity/data engineering nano/Data_Modelling/data_modelling_with_cassandra_project/event_data/2018-11-09-events.csv', '/Users/abbas/Documents/udacity/data engineering nano/Data_Modelling/data_modelling_with_cassandra_project/event_data/2018-11-18-events.csv', '/Users/abbas/Documents/udacity/data engineering nano/Data_Modelling/data_modelling_with_cassandra_project/event_data/2018-11-04-events.csv', '/Users/abbas/Documents/udacity/data engineering nano/Data_Modelling/data_modelling_with_cassandra_project/event_data/2018-11-01-events.csv', '/Users/abbas/Documents/udacity/data engineering nano/Data_Modelling/data_modelling_with_cassandra_project/event_data/2018-11-27-events.csv', '/Users/abbas/Documents/udacity/data engineering nano/Data_Modelling/data_modelling_with_cassandra_project/event_data/2018-11-10-events.csv', '/Users/abbas/Documents/udacity/data engineering nano/Data_Modelling/data_modelling_with_cassandra_project/event_data/2018-11-20-events.csv', '/Users/abbas/Documents/udacity/data engineering nano/Data_Modelling/data_modelling_with_cassandra_project/event_data/2018-11-17-events.csv', '/Users/abbas/Documents/udacity/data engineering nano/Data_Modelling/data_modelling_with_cassandra_project/event_data/2018-11-06-events.csv', '/Users/abbas/Documents/udacity/data engineering nano/Data_Modelling/data_modelling_with_cassandra_project/event_data/2018-11-03-events.csv', '/Users/abbas/Documents/udacity/data engineering nano/Data_Modelling/data_modelling_with_cassandra_project/event_data/2018-11-28-events.csv', '/Users/abbas/Documents/udacity/data engineering nano/Data_Modelling/data_modelling_with_cassandra_project/event_data/2018-11-12-events.csv', '/Users/abbas/Documents/udacity/data engineering nano/Data_Modelling/data_modelling_with_cassandra_project/event_data/2018-11-25-events.csv', '/Users/abbas/Documents/udacity/data engineering nano/Data_Modelling/data_modelling_with_cassandra_project/event_data/2018-11-26-events.csv', '/Users/abbas/Documents/udacity/data engineering nano/Data_Modelling/data_modelling_with_cassandra_project/event_data/2018-11-11-events.csv', '/Users/abbas/Documents/udacity/data engineering nano/Data_Modelling/data_modelling_with_cassandra_project/event_data/2018-11-14-events.csv', '/Users/abbas/Documents/udacity/data engineering nano/Data_Modelling/data_modelling_with_cassandra_project/event_data/2018-11-23-events.csv', '/Users/abbas/Documents/udacity/data engineering nano/Data_Modelling/data_modelling_with_cassandra_project/event_data/2018-11-08-events.csv', '/Users/abbas/Documents/udacity/data engineering nano/Data_Modelling/data_modelling_with_cassandra_project/event_data/2018-11-19-events.csv', '/Users/abbas/Documents/udacity/data engineering nano/Data_Modelling/data_modelling_with_cassandra_project/event_data/2018-11-05-events.csv', '/Users/abbas/Documents/udacity/data engineering nano/Data_Modelling/data_modelling_with_cassandra_project/event_data/2018-11-02-events.csv', '/Users/abbas/Documents/udacity/data engineering nano/Data_Modelling/data_modelling_with_cassandra_project/event_data/2018-11-29-events.csv', '/Users/abbas/Documents/udacity/data engineering nano/Data_Modelling/data_modelling_with_cassandra_project/event_data/2018-11-13-events.csv', '/Users/abbas/Documents/udacity/data engineering nano/Data_Modelling/data_modelling_with_cassandra_project/event_data/2018-11-24-events.csv', '/Users/abbas/Documents/udacity/data engineering nano/Data_Modelling/data_modelling_with_cassandra_project/event_data/2018-11-21-events.csv', '/Users/abbas/Documents/udacity/data engineering nano/Data_Modelling/data_modelling_with_cassandra_project/event_data/2018-11-16-events.csv', '/Users/abbas/Documents/udacity/data engineering nano/Data_Modelling/data_modelling_with_cassandra_project/event_data/2018-11-07-events.csv', '/Users/abbas/Documents/udacity/data engineering nano/Data_Modelling/data_modelling_with_cassandra_project/event_data/2018-11-30-events.csv']\n"
     ]
    }
   ],
   "source": [
    "# checking the current working directory\n",
    "print(os.getcwd())\n",
    "\n",
    "# Getting the current folder and subfolder event data\n",
    "filepath = os.getcwd() + '/event_data'\n",
    "\n",
    "# Creating a \"for loop\" to create a list of files and collect each filepath\n",
    "for root, dirs, files in os.walk(filepath):\n",
    "    \n",
    "# joinning the file path and roots with the subdirectories using glob\n",
    "    file_path_list = glob.glob(os.path.join(root,'*'))\n",
    "    print(file_path_list)"
   ]
  },
  {
   "cell_type": "markdown",
   "metadata": {},
   "source": [
    "#### Processing the files to create the data file csv that will be used for Apache Casssandra tables"
   ]
  },
  {
   "cell_type": "code",
   "execution_count": 3,
   "metadata": {},
   "outputs": [
    {
     "name": "stdout",
     "output_type": "stream",
     "text": [
      "8056\n"
     ]
    }
   ],
   "source": [
    "# initiating an empty list of rows that will be generated from each file\n",
    "full_data_rows_list = [] \n",
    "    \n",
    "# for every filepath in the file path list \n",
    "for f in file_path_list:\n",
    "\n",
    "# reading csv file \n",
    "    with open(f, 'r', encoding = 'utf8', newline='') as csvfile: \n",
    "        # creating a csv reader object \n",
    "        csvreader = csv.reader(csvfile) \n",
    "        next(csvreader)\n",
    "        \n",
    " # extracting each data row one by one and append it        \n",
    "        for line in csvreader:\n",
    "            #print(line)\n",
    "            full_data_rows_list.append(line) \n",
    "            \n",
    "# uncomment the code below if you would like to get total number of rows \n",
    "print(len(full_data_rows_list))\n",
    "# uncomment the code below if you would like to check to see what the list of event data rows will look like\n",
    "# print(full_data_rows_list)\n",
    "\n",
    "# creating a smaller event data csv file called event_datafile_full csv that will be used to insert data into the \\\n",
    "# Apache Cassandra tables\n",
    "csv.register_dialect('myDialect', quoting=csv.QUOTE_ALL, skipinitialspace=True)\n",
    "\n",
    "with open('event_datafile_new.csv', 'w', encoding = 'utf8', newline='') as f:\n",
    "    writer = csv.writer(f, dialect='myDialect')\n",
    "    writer.writerow(['artist','firstName','gender','itemInSession','lastName','length',\\\n",
    "                'level','location','sessionId','song','userId'])\n",
    "    for row in full_data_rows_list:\n",
    "        if (row[0] == ''):\n",
    "            continue\n",
    "        writer.writerow((row[0], row[2], row[3], row[4], row[5], row[6], row[7], row[8], row[12], row[13], row[16]))\n",
    "        \n"
   ]
  },
  {
   "cell_type": "code",
   "execution_count": 4,
   "metadata": {},
   "outputs": [
    {
     "data": {
      "text/plain": [
       "8056"
      ]
     },
     "execution_count": 4,
     "metadata": {},
     "output_type": "execute_result"
    }
   ],
   "source": [
    "len(full_data_rows_list)"
   ]
  },
  {
   "cell_type": "code",
   "execution_count": 5,
   "metadata": {},
   "outputs": [
    {
     "name": "stdout",
     "output_type": "stream",
     "text": [
      "6821\n"
     ]
    }
   ],
   "source": [
    "# check the number of rows in your csv file\n",
    "with open('event_datafile_new.csv', 'r', encoding = 'utf8') as f:\n",
    "    print(sum(1 for line in f))"
   ]
  },
  {
   "cell_type": "markdown",
   "metadata": {},
   "source": [
    "# Part II. Complete the Apache Cassandra coding portion of your project. \n",
    "\n",
    "## Now you are ready to work with the CSV file titled <font color=red>event_datafile_new.csv</font>, located within the Workspace directory.  The event_datafile_new.csv contains the following columns: \n",
    "- artist \n",
    "- firstName of user\n",
    "- gender of user\n",
    "- item number in session\n",
    "- last name of user\n",
    "- length of the song\n",
    "- level (paid or free song)\n",
    "- location of the user\n",
    "- sessionId\n",
    "- song title\n",
    "- userId\n",
    "\n",
    "The image below is a screenshot of what the denormalized data should appear like in the <font color=red>**event_datafile_new.csv**</font> after the code above is run:<br>\n",
    "\n",
    "<img src=\"images/image_event_datafile_new.jpg\">"
   ]
  },
  {
   "cell_type": "markdown",
   "metadata": {},
   "source": [
    "## Begin writing your Apache Cassandra code in the cells below"
   ]
  },
  {
   "cell_type": "markdown",
   "metadata": {},
   "source": [
    "#### Creating a Cluster"
   ]
  },
  {
   "cell_type": "code",
   "execution_count": 6,
   "metadata": {},
   "outputs": [],
   "source": [
    "# Making a connection to a Cassandra instance our local machine \n",
    "# (127.0.0.1)\n",
    "from cassandra.cluster import Cluster\n",
    "try:\n",
    "    cluster = Cluster(['127.0.0.1'])\n",
    "\n",
    "    # Establishing connection and beginning executing queries\n",
    "    session = cluster.connect()\n",
    "except Exception as e:\n",
    "    print(e)\n"
   ]
  },
  {
   "cell_type": "markdown",
   "metadata": {},
   "source": [
    "#### Create Keyspace"
   ]
  },
  {
   "cell_type": "code",
   "execution_count": 7,
   "metadata": {},
   "outputs": [],
   "source": [
    "# Here, we create a keyspace (database), sparkify_cassandra\n",
    "try:\n",
    "    session.execute(\"\"\"\n",
    "    CREATE KEYSPACE IF NOT EXISTS sparkify_cassandra\n",
    "    WITH REPLICATION = \n",
    "    { 'class' : 'SimpleStrategy', 'replication_factor' : 1 }\"\"\"\n",
    ")\n",
    "\n",
    "except Exception as e:\n",
    "    print(e)"
   ]
  },
  {
   "cell_type": "markdown",
   "metadata": {},
   "source": [
    "#### Set Keyspace"
   ]
  },
  {
   "cell_type": "code",
   "execution_count": 8,
   "metadata": {},
   "outputs": [],
   "source": [
    "# we connect to the KEYSPACE specified above\n",
    "try:\n",
    "    session.set_keyspace('sparkify_cassandra')\n",
    "except Exception as e:\n",
    "    print(e)"
   ]
  },
  {
   "cell_type": "markdown",
   "metadata": {},
   "source": [
    "### Now we need to create tables to run the following queries. Remember, with Apache Cassandra you model the database tables on the queries you want to run."
   ]
  },
  {
   "cell_type": "markdown",
   "metadata": {},
   "source": [
    "## Create queries to ask the following three questions of the data\n",
    "\n",
    "### 1. Give me the artist, song title and song's length in the music app history that was heard during  sessionId = 338, and itemInSession  = 4\n",
    "\n",
    "\n",
    "### 2. Give me only the following: name of artist, song (sorted by itemInSession) and user (first and last name) for userid = 10, sessionid = 182\n",
    "    \n",
    "\n",
    "### 3. Give me every user name (first and last) in my music app history who listened to the song 'All Hands Against His Own'\n",
    "\n",
    "\n"
   ]
  },
  {
   "cell_type": "code",
   "execution_count": 9,
   "metadata": {},
   "outputs": [
    {
     "name": "stdout",
     "output_type": "stream",
     "text": [
      "Artist: Faithless \n",
      "Song Title: Music Matters (Mark Knight Dub) \n",
      "Song Length: 495.30731201171875\n"
     ]
    }
   ],
   "source": [
    "#Here, we want to retrieve the artist, song title and song's length that was heard during sessionId = 338, and itemInSession = 4 in our database.\n",
    "#Since cassandra is a query-based database and JOINs are't allowed, we create our tables according to our queries.\n",
    "\n",
    "#The table, songs_by_user_session is created below. Since we want to retrieve data based on session_id and item_in_session, we start with...\n",
    "#... both when defining our table, thereby clustering on the two columns. Consequently, our primary and partition keys are session_id and item_in_session\n",
    "query = \"CREATE TABLE IF NOT EXISTS songs_by_user_session\"\n",
    "query = query + \"(session_id int, item_in_session int, artist text, song text, length float, PRIMARY KEY(session_id, item_in_session))\"\n",
    "try:\n",
    "    session.execute(query)\n",
    "except Exception as e:\n",
    "    print(e)\n",
    "\n",
    "#The query to select the  artist, song title and song's length that was heard during sessionId = 338, and itemInSession = 4\n",
    "#We can directly replace the %s with 338 and 4, but we intentionally put the values as placeholders here so we can add the values...\n",
    "#...When executing the queries\n",
    "\n",
    "select_query = \"select artist, song, length FROM songs_by_user_session WHERE session_id = %s AND item_in_session = %s\"    \n",
    "\n",
    "# We set up the CSV file here for reading\n",
    "file = 'event_datafile_new.csv'\n",
    "\n",
    "with open(file, encoding = 'utf8') as f:\n",
    "    csvreader = csv.reader(f)\n",
    "    next(csvreader) # skip header\n",
    "    for line in csvreader:\n",
    "\n",
    "        #Here, we assign the INSERT statements into the `query` variable\n",
    "        query = \"INSERT INTO songs_by_user_session (session_id, item_in_session, artist, song, length)\"\n",
    "        query = query + \"VALUES (%s, %s, %s, %s, %s)\"\n",
    "\n",
    "        # we populate our table, songs_by_user_session by assigning which column element should be assigned for each column in the INSERT statement.\n",
    "        #The lines 8,3,0, 9 and 5 are the columns with the name  \"sessionId\", \"ItemInSession\", \"artist\", \"song\" and \"length\" in the event_datafile_new.csv file\n",
    "        session.execute(query, (int(line[8]), int(line[3]), line[0], line[9], float(line[5])))\n",
    "\n",
    "# Here, we confirm if the data was populated successfully into the table by adding  SELECT statement\n",
    "try:\n",
    "    rows = session.execute(select_query, (338, 4))\n",
    "except Exception as e:\n",
    "    print(e)\n",
    "    \n",
    "for row in rows:\n",
    "    print(\"Artist: \"+row.artist, \"\\nSong Title: \"+row.song, \"\\nSong Length: \"+str(row.length))"
   ]
  },
  {
   "cell_type": "markdown",
   "metadata": {},
   "source": [
    "#### Do a SELECT to verify that the data have been inserted into each table"
   ]
  },
  {
   "cell_type": "markdown",
   "metadata": {},
   "source": [
    "### COPY AND REPEAT THE ABOVE THREE CELLS FOR EACH OF THE THREE QUESTIONS"
   ]
  },
  {
   "cell_type": "code",
   "execution_count": 10,
   "metadata": {},
   "outputs": [
    {
     "name": "stdout",
     "output_type": "stream",
     "text": [
      "Artist: Down To The Bone \n",
      "Song Title: Keep On Keepin' On \n",
      "First Name: Sylvie \n",
      "Last Name: Cruz\n",
      "Artist: Three Drives \n",
      "Song Title: Greece 2000 \n",
      "First Name: Sylvie \n",
      "Last Name: Cruz\n",
      "Artist: Sebastien Tellier \n",
      "Song Title: Kilometer \n",
      "First Name: Sylvie \n",
      "Last Name: Cruz\n",
      "Artist: Lonnie Gordon \n",
      "Song Title: Catch You Baby (Steve Pitron & Max Sanna Radio Edit) \n",
      "First Name: Sylvie \n",
      "Last Name: Cruz\n"
     ]
    }
   ],
   "source": [
    "#Here, we want to retrieve the name of artist, song (sorted by ItemInSession) and user's first and last name for the user_id = 10 and session_id =182 \n",
    "#We create the table, artist_songs_by_item_session below, putting our query in mind.\n",
    "#Since we'll be filtering on two columns, \"user_id\" and \"session_id\" with the result being sorted by \"item_in_session\", ther's need to create a \n",
    "#composite partition key ((user_id, session_id), item_in_session))\n",
    "#Notice: THE PRIMARY KEY IS MADE UP OF EITHER JUST THE PARTITION KEY OR MAY ALSO INCLUDE ADDITIONAL CLUSTERING COLUMNS (like the item_in_session)\n",
    "\n",
    "query = \"CREATE TABLE IF NOT EXISTS artist_songs_by_item_session\"\n",
    "query = query + \"(user_id int, session_id int,  item_in_session int, artist text, song text, \\\n",
    "                first_name text, last_name text, PRIMARY KEY((user_id, session_id), item_in_session))\"                \n",
    "try:\n",
    "    session.execute(query)\n",
    "except Exception as e:\n",
    "    print(e)\n",
    "\n",
    "#The query to select the  artist, song, first and last name from the artist_songs_by_item_session for the user_id = 10 and session_id = 182\n",
    "#We can directly replace the %s with 10 and 182, but we intentionally put the values as placeholders here so we can add the values...\n",
    "#...When executing the queries\n",
    "select_query = \"select artist, song, first_name, last_name FROM artist_songs_by_item_session WHERE user_id = %s AND session_id = %s\"    \n",
    "\n",
    "# We set up the CSV file here for reading\n",
    "file = 'event_datafile_new.csv'\n",
    "\n",
    "with open(file, encoding = 'utf8') as f:\n",
    "    csvreader = csv.reader(f)\n",
    "    next(csvreader) # skip header\n",
    "    for line in csvreader:\n",
    "\n",
    "        #Here, we assign the INSERT statements into the `query` variable\n",
    "        query = \"INSERT INTO artist_songs_by_item_session (user_id, session_id, item_in_session, artist, song, first_name, last_name)\"\n",
    "        query = query + \"VALUES (%s, %s, %s, %s, %s, %s, %s)\"\n",
    "\n",
    "        # we populate our table, artist_songs_by_item_session by assigning which column element should be assigned for each column in the INSERT statement.\n",
    "        #The lines 10, 8, 3, 0, 9, 1 and 4  are the columns with the name  \"userId\", \"sessionId\", \"itemInSession\", \"song\", \"firstName\" and \"lastName\" in the event_datafile_new.csv file\n",
    "        session.execute(query, (int(line[10]), int(line[8]), int(line[3]), line[0], line[9], line[1], line[4]))\n",
    "\n",
    "\n",
    "# Here, we confirm if the data was populated successfully into the table by adding  SELECT statement\n",
    "try:\n",
    "    rows = session.execute(select_query, (10, 182))\n",
    "except Exception as e:\n",
    "    print(e)\n",
    "for row in rows:\n",
    "    print(\"Artist: \"+row.artist, \"\\nSong Title: \"+row.song, \"\\nFirst Name: \"+row.first_name, \"\\nLast Name: \"+row.last_name)\n",
    "                    "
   ]
  },
  {
   "cell_type": "code",
   "execution_count": 14,
   "metadata": {},
   "outputs": [
    {
     "name": "stdout",
     "output_type": "stream",
     "text": [
      "First Name: Jacqueline \n",
      "Last Name: Lynch\n",
      "First Name: Tegan \n",
      "Last Name: Levine\n",
      "First Name: Sara \n",
      "Last Name: Johnson\n"
     ]
    }
   ],
   "source": [
    "\n",
    "#Here, we want to retrieve every user's first and last names who listened to the song 'All Hands Against His Own'\n",
    "#We create the table, user_song_details below, putting our query in mind.\n",
    "#Since we want to retrieve users who listened to a particular song, there is need to  partition by \"song\"\n",
    "#An Assumption is that there might be two or more people with thesame first and last names, we consider ...\n",
    "#...using user_id as a clustering column to  add a unique contraint because user_ids are technically unique indentifiers\n",
    "# Additionally, our reason for this is that values for all columns defined in the PARTITION KEY have to be supplied to retrieve data from a table, .\n",
    "# We ONLY want to use the song with the WHERE clause. So, it makes sense to define our PRIMARY KEY as it is below\n",
    "\n",
    "\n",
    "query = \"CREATE TABLE IF NOT EXISTS user_song_details\"\n",
    "query = query + \"(song text, user_id int, first_name text, last_name text,  PRIMARY KEY((song), user_id))\"\n",
    "try:\n",
    "    session.execute(query)\n",
    "except Exception as e:\n",
    "    print(e)\n",
    "\n",
    "#The query to select the  first and last names from the user_song_details for those who listened to the song, 'All Hands Against His Own' \n",
    "#Unlike the other ones above, we have not made use of any place holder here. we demonstrate the possibility of adding the conditional values directly\n",
    "\n",
    "select_query = \"select first_name, last_name FROM user_song_details WHERE song = 'All Hands Against His Own'\"    \n",
    "\n",
    "# We set up the CSV file here for reading\n",
    "file = 'event_datafile_new.csv'\n",
    "\n",
    "with open(file, encoding = 'utf8') as f:\n",
    "    csvreader = csv.reader(f)\n",
    "    next(csvreader) # skip header\n",
    "    for line in csvreader:\n",
    "        \n",
    "        #Here, we assign the INSERT statements into the `query` variable\n",
    "        query = \"INSERT INTO user_song_details (song, user_id, first_name, last_name)\"\n",
    "        query = query + \"VALUES (%s, %s, %s, %s)\"\n",
    "\n",
    "        # we populate our table, user_song_details by assigning which column element should be assigned for each column in the INSERT statement.\n",
    "        #The lines 9, 10, 1 and 4  are the columns with the names \"song\", \"userId\", \"firstName\" and \"lastName\" in the event_datafile_new.csv file\n",
    "        session.execute(query, (line[9], int(line[10]), line[1], line[4]))\n",
    "\n",
    "\n",
    "# Here, we confirm if the data was populated successfully into the table by adding  SELECT statement\n",
    "try:\n",
    "    rows = session.execute(select_query)\n",
    "except Exception as e:\n",
    "    print(e)\n",
    "for row in rows:\n",
    "    print(\"First Name: \"+row.first_name, \"\\nLast Name: \"+row.last_name)"
   ]
  },
  {
   "cell_type": "markdown",
   "metadata": {},
   "source": [
    "### Drop the tables before closing out the sessions"
   ]
  },
  {
   "cell_type": "code",
   "execution_count": 15,
   "metadata": {},
   "outputs": [
    {
     "data": {
      "text/plain": [
       "<cassandra.cluster.ResultSet at 0x158534580>"
      ]
     },
     "execution_count": 15,
     "metadata": {},
     "output_type": "execute_result"
    }
   ],
   "source": [
    "#Dropping the table before closing out the sessions\n",
    "session.execute(\"DROP TABLE IF EXISTS songs_by_user_session\")\n",
    "session.execute(\"DROP TABLE IF EXISTS artist_songs_by_item_session\")\n",
    "session.execute(\"DROP TABLE IF EXISTS user_song_details\")"
   ]
  },
  {
   "cell_type": "markdown",
   "metadata": {},
   "source": [
    "### Close the session and cluster connection¶"
   ]
  },
  {
   "cell_type": "code",
   "execution_count": 16,
   "metadata": {},
   "outputs": [],
   "source": [
    "session.shutdown()\n",
    "cluster.shutdown()"
   ]
  }
 ],
 "metadata": {
  "kernelspec": {
   "display_name": "Python 3.8.11 ('bigdata')",
   "language": "python",
   "name": "python3"
  },
  "language_info": {
   "codemirror_mode": {
    "name": "ipython",
    "version": 3
   },
   "file_extension": ".py",
   "mimetype": "text/x-python",
   "name": "python",
   "nbconvert_exporter": "python",
   "pygments_lexer": "ipython3",
   "version": "3.8.11"
  },
  "vscode": {
   "interpreter": {
    "hash": "e587bc1b118cc5ad16539ee4ac226e9314ac0db56d6e8c6916964716ba2a4c0e"
   }
  }
 },
 "nbformat": 4,
 "nbformat_minor": 2
}
